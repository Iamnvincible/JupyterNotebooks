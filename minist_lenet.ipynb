{
 "cells": [
  {
   "cell_type": "code",
   "execution_count": 23,
   "metadata": {},
   "outputs": [],
   "source": [
    "from keras import backend as K\n",
    "from keras.models import Sequential\n",
    "from keras.layers.convolutional import Conv2D\n",
    "from keras.layers import MaxPooling2D\n",
    "from keras.layers.core import Activation\n",
    "from keras.layers.core import Flatten\n",
    "from keras.layers.core import Dense\n",
    "from keras.datasets import mnist\n",
    "from keras.utils import np_utils\n",
    "from keras.optimizers import SGD,RMSprop,Adam\n",
    "import numpy as np\n",
    "import matplotlib.pyplot as plt"
   ]
  },
  {
   "cell_type": "code",
   "execution_count": 35,
   "metadata": {},
   "outputs": [],
   "source": [
    "class LeNet:\n",
    "    @staticmethod\n",
    "    def build(input_shape, classes):\n",
    "        model = Sequential()\n",
    "        model.add(Conv2D(20,kernel_size=5,padding='same',input_shape=input_shape))\n",
    "        model.add(Activation('relu'))\n",
    "        model.add(MaxPooling2D(pool_size=(2, 2), strides=(2,2)))\n",
    "        model.add(Conv2D(50,kernel_size=(5,5),border_mode='same'))\n",
    "        model.add(Activation('relu'))\n",
    "        model.add(MaxPooling2D(pool_size=(2, 2), strides=(2,2)))\n",
    "        model.add(Flatten())\n",
    "        model.add(Dense(500))\n",
    "        model.add(Activation('relu'))\n",
    "        model.add(Dense(classes))\n",
    "        model.add((Activation('softmax')))\n",
    "        return model"
   ]
  },
  {
   "cell_type": "code",
   "execution_count": 3,
   "metadata": {},
   "outputs": [],
   "source": [
    "NB_EPOCH = 20\n",
    "BATCH_SIZE = 128\n",
    "VERBOSE = 1\n",
    "OPTIMIZER = Adam()\n",
    "VALIDATION_SPLIT = 0.2\n",
    "IMG_ROWS, IMG_COLS = 28,28\n",
    "NB_CLASSES = 10\n",
    "INPUT_SHAPE = (1, IMG_ROWS, IMG_COLS)"
   ]
  },
  {
   "cell_type": "code",
   "execution_count": 6,
   "metadata": {},
   "outputs": [
    {
     "name": "stdout",
     "output_type": "stream",
     "text": [
      "60000 train samples\n",
      "10000 test samples\n"
     ]
    }
   ],
   "source": [
    "(X_train, y_train), (X_test, y_test) = mnist.load_data()\n",
    "K.set_image_dim_ordering('th')\n",
    "X_train = X_train.astype('float32')\n",
    "X_test = X_test.astype('float32')\n",
    "X_train /= 255\n",
    "X_test /= 255\n",
    "print(X_train.shape[0], 'train samples')\n",
    "print(X_test.shape[0], 'test samples')"
   ]
  },
  {
   "cell_type": "code",
   "execution_count": 7,
   "metadata": {},
   "outputs": [],
   "source": [
    "X_train = X_train[:,np.newaxis,:,:]\n",
    "X_test = X_test[:,np.newaxis,:,:]"
   ]
  },
  {
   "cell_type": "code",
   "execution_count": 8,
   "metadata": {},
   "outputs": [
    {
     "data": {
      "text/plain": [
       "(60000, 1, 28, 28)"
      ]
     },
     "execution_count": 8,
     "metadata": {},
     "output_type": "execute_result"
    }
   ],
   "source": [
    "X_train.shape"
   ]
  },
  {
   "cell_type": "code",
   "execution_count": 13,
   "metadata": {},
   "outputs": [],
   "source": [
    "y_train = np_utils.to_categorical(y_train,NB_CLASSES)\n",
    "y_test = np_utils.to_categorical(y_test,NB_CLASSES)"
   ]
  },
  {
   "cell_type": "code",
   "execution_count": 15,
   "metadata": {},
   "outputs": [
    {
     "data": {
      "text/plain": [
       "(60000, 10)"
      ]
     },
     "execution_count": 15,
     "metadata": {},
     "output_type": "execute_result"
    }
   ],
   "source": [
    "y_train.shape"
   ]
  },
  {
   "cell_type": "code",
   "execution_count": 36,
   "metadata": {},
   "outputs": [
    {
     "name": "stderr",
     "output_type": "stream",
     "text": [
      "/anaconda/envs/py35/lib/python3.5/site-packages/ipykernel/__main__.py:8: UserWarning: Update your `Conv2D` call to the Keras 2 API: `Conv2D(50, padding=\"same\", kernel_size=(5, 5))`\n"
     ]
    },
    {
     "name": "stdout",
     "output_type": "stream",
     "text": [
      "Train on 48000 samples, validate on 12000 samples\n",
      "Epoch 1/20\n",
      "48000/48000 [==============================] - 22s 457us/step - loss: 0.1817 - acc: 0.9458 - val_loss: 0.0601 - val_acc: 0.9807\n",
      "Epoch 2/20\n",
      "48000/48000 [==============================] - 5s 99us/step - loss: 0.0507 - acc: 0.9840 - val_loss: 0.0517 - val_acc: 0.9842\n",
      "Epoch 3/20\n",
      "48000/48000 [==============================] - 5s 99us/step - loss: 0.0329 - acc: 0.9896 - val_loss: 0.0443 - val_acc: 0.9858\n",
      "Epoch 4/20\n",
      "48000/48000 [==============================] - 5s 99us/step - loss: 0.0223 - acc: 0.9925 - val_loss: 0.0404 - val_acc: 0.9888\n",
      "Epoch 5/20\n",
      "48000/48000 [==============================] - 5s 99us/step - loss: 0.0179 - acc: 0.9941 - val_loss: 0.0400 - val_acc: 0.9886\n",
      "Epoch 6/20\n",
      "48000/48000 [==============================] - 5s 99us/step - loss: 0.0133 - acc: 0.9960 - val_loss: 0.0347 - val_acc: 0.9900\n",
      "Epoch 7/20\n",
      "48000/48000 [==============================] - 5s 99us/step - loss: 0.0098 - acc: 0.9966 - val_loss: 0.0394 - val_acc: 0.9892\n",
      "Epoch 8/20\n",
      "48000/48000 [==============================] - 5s 99us/step - loss: 0.0100 - acc: 0.9966 - val_loss: 0.0468 - val_acc: 0.9889\n",
      "Epoch 9/20\n",
      "48000/48000 [==============================] - 5s 99us/step - loss: 0.0078 - acc: 0.9976 - val_loss: 0.0407 - val_acc: 0.9890\n",
      "Epoch 10/20\n",
      "48000/48000 [==============================] - 5s 99us/step - loss: 0.0069 - acc: 0.9976 - val_loss: 0.0412 - val_acc: 0.9894\n",
      "Epoch 11/20\n",
      "48000/48000 [==============================] - 5s 99us/step - loss: 0.0069 - acc: 0.9977 - val_loss: 0.0362 - val_acc: 0.9907\n",
      "Epoch 12/20\n",
      "48000/48000 [==============================] - 5s 99us/step - loss: 0.0066 - acc: 0.9978 - val_loss: 0.0338 - val_acc: 0.9906\n",
      "Epoch 13/20\n",
      "48000/48000 [==============================] - 5s 99us/step - loss: 0.0036 - acc: 0.9987 - val_loss: 0.0545 - val_acc: 0.9872\n",
      "Epoch 14/20\n",
      "48000/48000 [==============================] - 5s 100us/step - loss: 0.0042 - acc: 0.9985 - val_loss: 0.0450 - val_acc: 0.9892\n",
      "Epoch 15/20\n",
      "48000/48000 [==============================] - 5s 99us/step - loss: 0.0052 - acc: 0.9982 - val_loss: 0.0444 - val_acc: 0.9885\n",
      "Epoch 16/20\n",
      "48000/48000 [==============================] - 5s 99us/step - loss: 0.0063 - acc: 0.9978 - val_loss: 0.0389 - val_acc: 0.9902\n",
      "Epoch 17/20\n",
      "48000/48000 [==============================] - 5s 99us/step - loss: 0.0019 - acc: 0.9994 - val_loss: 0.0507 - val_acc: 0.9895\n",
      "Epoch 18/20\n",
      "48000/48000 [==============================] - 5s 99us/step - loss: 0.0041 - acc: 0.9988 - val_loss: 0.0443 - val_acc: 0.9912\n",
      "Epoch 19/20\n",
      "48000/48000 [==============================] - 5s 99us/step - loss: 0.0036 - acc: 0.9988 - val_loss: 0.0391 - val_acc: 0.9913\n",
      "Epoch 20/20\n",
      "48000/48000 [==============================] - 5s 99us/step - loss: 0.0034 - acc: 0.9988 - val_loss: 0.0520 - val_acc: 0.9884\n"
     ]
    }
   ],
   "source": [
    "model = LeNet.build(input_shape=INPUT_SHAPE,classes=NB_CLASSES)\n",
    "model.compile(loss='categorical_crossentropy',optimizer=OPTIMIZER,metrics=['accuracy'])\n",
    "history = model.fit(X_train,y_train,batch_size=BATCH_SIZE,epochs=NB_EPOCH,verbose=VERBOSE,validation_split=VALIDATION_SPLIT)"
   ]
  },
  {
   "cell_type": "code",
   "execution_count": 38,
   "metadata": {},
   "outputs": [
    {
     "name": "stdout",
     "output_type": "stream",
     "text": [
      "10000/10000 [==============================] - 1s 81us/step\n",
      "Test score 0.04142384915732532\n",
      "Test accuracy 0.9915\n"
     ]
    }
   ],
   "source": [
    "score = model.evaluate(X_test,y_test,verbose=VERBOSE)\n",
    "print('Test score',score[0])\n",
    "print('Test accuracy',score[1])"
   ]
  },
  {
   "cell_type": "code",
   "execution_count": 39,
   "metadata": {},
   "outputs": [
    {
     "name": "stdout",
     "output_type": "stream",
     "text": [
      "dict_keys(['val_acc', 'loss', 'acc', 'val_loss'])\n"
     ]
    }
   ],
   "source": [
    "print(history.history.keys())"
   ]
  },
  {
   "cell_type": "code",
   "execution_count": 40,
   "metadata": {},
   "outputs": [],
   "source": [
    "# define the function\n",
    "import matplotlib.pyplot as plt\n",
    "%matplotlib inline\n",
    "def training_vis(hist):\n",
    "    loss = hist.history['loss']\n",
    "    val_loss = hist.history['val_loss']\n",
    "    acc = hist.history['acc']\n",
    "    val_acc = hist.history['val_acc']\n",
    "\n",
    "    # make a figure\n",
    "    fig = plt.figure(figsize=(12,4))\n",
    "    # subplot loss\n",
    "    ax1 = fig.add_subplot(121)\n",
    "    ax1.plot(loss,label='train_loss')\n",
    "    ax1.plot(val_loss,label='val_loss')\n",
    "    ax1.set_xlabel('Epochs')\n",
    "    ax1.set_ylabel('Loss')\n",
    "    ax1.set_title('Loss on Training and Validation Data')\n",
    "    ax1.legend()\n",
    "    # subplot acc\n",
    "    ax2 = fig.add_subplot(122)\n",
    "    ax2.plot(acc,label='train_acc')\n",
    "    ax2.plot(val_acc,label='val_acc')\n",
    "    ax2.set_xlabel('Epochs')\n",
    "    ax2.set_ylabel('Accuracy')\n",
    "    ax2.set_title('Accuracy  on Training and Validation Data')\n",
    "    ax2.legend()\n",
    "    plt.tight_layout()"
   ]
  },
  {
   "cell_type": "code",
   "execution_count": 41,
   "metadata": {},
   "outputs": [
    {
     "data": {
      "image/png": "[encoded data removed]",
      "text/plain": [
       "<matplotlib.figure.Figure at 0x7f2d52fbbbe0>"
      ]
     },
     "metadata": {},
     "output_type": "display_data"
    }
   ],
   "source": [
    "training_vis(history)"
   ]
  },
  {
   "cell_type": "code",
   "execution_count": null,
   "metadata": {},
   "outputs": [],
   "source": []
  }
 ],
 "metadata": {
  "kernelspec": {
   "display_name": "Python [conda env:py35]",
   "language": "python",
   "name": "conda-env-py35-py"
  },
  "language_info": {
   "codemirror_mode": {
    "name": "ipython",
    "version": 3
   },
   "file_extension": ".py",
   "mimetype": "text/x-python",
   "name": "python",
   "nbconvert_exporter": "python",
   "pygments_lexer": "ipython3",
   "version": "3.5.4"
  }
 },
 "nbformat": 4,
 "nbformat_minor": 2
}
