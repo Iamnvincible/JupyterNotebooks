{
 "cells": [
  {
   "cell_type": "markdown",
   "metadata": {},
   "source": [
    "# CIFAR-10"
   ]
  },
  {
   "cell_type": "code",
   "execution_count": 12,
   "metadata": {},
   "outputs": [],
   "source": [
    "from keras.datasets import cifar10\n",
    "from keras.utils import np_utils\n",
    "from keras.models import Sequential\n",
    "from keras.layers.core import Dense,Dropout,Activation,Flatten\n",
    "from keras.layers.convolutional import Conv2D,MaxPooling2D\n",
    "from keras.optimizers import SGD,Adam,RMSprop\n",
    "import matplotlib.pyplot as plt"
   ]
  },
  {
   "cell_type": "code",
   "execution_count": 13,
   "metadata": {},
   "outputs": [],
   "source": [
    "#60 000 * 32 *32 *3\n",
    "IMG_CHANNELS = 3\n",
    "IMG_ROWS = 32\n",
    "IMG_COLS = 32"
   ]
  },
  {
   "cell_type": "code",
   "execution_count": 14,
   "metadata": {},
   "outputs": [],
   "source": [
    "BATCH_SIZE = 128\n",
    "NB_EPOCH = 20\n",
    "NB_CLASSES = 10\n",
    "VERBOSE = 1\n",
    "VALIDATION_SPLIT = 0.2\n",
    "OPTIM = RMSprop()"
   ]
  },
  {
   "cell_type": "code",
   "execution_count": 15,
   "metadata": {},
   "outputs": [
    {
     "name": "stdout",
     "output_type": "stream",
     "text": [
      "(50000, 32, 32, 3)\n",
      "50000 10000\n"
     ]
    }
   ],
   "source": [
    "(X_train, y_train), (X_test, y_test) = cifar10.load_data()\n",
    "print(X_train.shape)\n",
    "print(X_train.shape[0],X_test.shape[0])"
   ]
  },
  {
   "cell_type": "code",
   "execution_count": 16,
   "metadata": {},
   "outputs": [],
   "source": [
    "Y_train = np_utils.to_categorical(y_train,NB_CLASSES)\n",
    "Y_test = np_utils.to_categorical(y_test,NB_CLASSES)"
   ]
  },
  {
   "cell_type": "code",
   "execution_count": 17,
   "metadata": {},
   "outputs": [],
   "source": [
    "X_train = X_train.astype('float32')\n",
    "X_test = X_test.astype('float32')\n",
    "X_train /= 255\n",
    "X_test /= 255"
   ]
  },
  {
   "cell_type": "code",
   "execution_count": 22,
   "metadata": {},
   "outputs": [
    {
     "data": {
      "text/plain": [
       "(50000, 32, 32, 3)"
      ]
     },
     "execution_count": 22,
     "metadata": {},
     "output_type": "execute_result"
    }
   ],
   "source": [
    "X_train.shape"
   ]
  },
  {
   "cell_type": "code",
   "execution_count": 23,
   "metadata": {},
   "outputs": [],
   "source": [
    "model = Sequential()\n",
    "model.add(Conv2D(32,(3,3),padding='same',input_shape=(IMG_ROWS, IMG_COLS, IMG_CHANNELS)))\n",
    "model.add(Activation('relu'))\n",
    "model.add(MaxPooling2D(pool_size=(2,2)))\n",
    "model.add(Dropout(0.25))"
   ]
  },
  {
   "cell_type": "code",
   "execution_count": 24,
   "metadata": {},
   "outputs": [
    {
     "name": "stdout",
     "output_type": "stream",
     "text": [
      "_________________________________________________________________\n",
      "Layer (type)                 Output Shape              Param #   \n",
      "=================================================================\n",
      "conv2d_1 (Conv2D)            (None, 32, 32, 32)        896       \n",
      "_________________________________________________________________\n",
      "activation_1 (Activation)    (None, 32, 32, 32)        0         \n",
      "_________________________________________________________________\n",
      "max_pooling2d_1 (MaxPooling2 (None, 16, 16, 32)        0         \n",
      "_________________________________________________________________\n",
      "dropout_1 (Dropout)          (None, 16, 16, 32)        0         \n",
      "_________________________________________________________________\n",
      "flatten_1 (Flatten)          (None, 8192)              0         \n",
      "_________________________________________________________________\n",
      "dense_1 (Dense)              (None, 512)               4194816   \n",
      "_________________________________________________________________\n",
      "activation_2 (Activation)    (None, 512)               0         \n",
      "_________________________________________________________________\n",
      "dropout_2 (Dropout)          (None, 512)               0         \n",
      "_________________________________________________________________\n",
      "dense_2 (Dense)              (None, 10)                5130      \n",
      "_________________________________________________________________\n",
      "activation_3 (Activation)    (None, 10)                0         \n",
      "=================================================================\n",
      "Total params: 4,200,842\n",
      "Trainable params: 4,200,842\n",
      "Non-trainable params: 0\n",
      "_________________________________________________________________\n"
     ]
    }
   ],
   "source": [
    "model.add(Flatten())\n",
    "model.add(Dense(512))\n",
    "model.add(Activation('relu'))\n",
    "model.add(Dropout(0.5))\n",
    "model.add(Dense(NB_CLASSES))\n",
    "model.add(Activation('softmax'))\n",
    "model.summary()"
   ]
  },
  {
   "cell_type": "code",
   "execution_count": 25,
   "metadata": {},
   "outputs": [
    {
     "name": "stdout",
     "output_type": "stream",
     "text": [
      "Train on 40000 samples, validate on 10000 samples\n",
      "Epoch 1/20\n",
      "40000/40000 [==============================] - 5s 136us/step - loss: 1.8258 - acc: 0.3659 - val_loss: 1.4173 - val_acc: 0.4959\n",
      "Epoch 2/20\n",
      "40000/40000 [==============================] - 5s 124us/step - loss: 1.4042 - acc: 0.5017 - val_loss: 1.3668 - val_acc: 0.5110\n",
      "Epoch 3/20\n",
      "40000/40000 [==============================] - 5s 123us/step - loss: 1.2731 - acc: 0.5501 - val_loss: 1.2416 - val_acc: 0.5648\n",
      "Epoch 4/20\n",
      "40000/40000 [==============================] - 5s 124us/step - loss: 1.1838 - acc: 0.5813 - val_loss: 1.1094 - val_acc: 0.6169\n",
      "Epoch 5/20\n",
      "40000/40000 [==============================] - 5s 124us/step - loss: 1.1087 - acc: 0.6105 - val_loss: 1.1828 - val_acc: 0.5844\n",
      "Epoch 6/20\n",
      "40000/40000 [==============================] - 5s 124us/step - loss: 1.0560 - acc: 0.6282 - val_loss: 1.0893 - val_acc: 0.6291\n",
      "Epoch 7/20\n",
      "40000/40000 [==============================] - 5s 123us/step - loss: 0.9998 - acc: 0.6523 - val_loss: 1.0821 - val_acc: 0.6335\n",
      "Epoch 8/20\n",
      "40000/40000 [==============================] - 5s 124us/step - loss: 0.9638 - acc: 0.6622 - val_loss: 1.0367 - val_acc: 0.6396\n",
      "Epoch 9/20\n",
      "40000/40000 [==============================] - 5s 124us/step - loss: 0.9284 - acc: 0.6757 - val_loss: 0.9943 - val_acc: 0.6568\n",
      "Epoch 10/20\n",
      "40000/40000 [==============================] - 5s 124us/step - loss: 0.8944 - acc: 0.6888 - val_loss: 0.9993 - val_acc: 0.6558\n",
      "Epoch 11/20\n",
      "40000/40000 [==============================] - 5s 123us/step - loss: 0.8623 - acc: 0.7026 - val_loss: 1.0181 - val_acc: 0.6570\n",
      "Epoch 12/20\n",
      "40000/40000 [==============================] - 5s 124us/step - loss: 0.8232 - acc: 0.7124 - val_loss: 1.0248 - val_acc: 0.6656\n",
      "Epoch 13/20\n",
      "40000/40000 [==============================] - 5s 124us/step - loss: 0.7997 - acc: 0.7242 - val_loss: 0.9771 - val_acc: 0.6752\n",
      "Epoch 14/20\n",
      "40000/40000 [==============================] - 5s 124us/step - loss: 0.7732 - acc: 0.7354 - val_loss: 0.9858 - val_acc: 0.6705\n",
      "Epoch 15/20\n",
      "40000/40000 [==============================] - 5s 123us/step - loss: 0.7481 - acc: 0.7411 - val_loss: 0.9928 - val_acc: 0.6710\n",
      "Epoch 16/20\n",
      "40000/40000 [==============================] - 5s 124us/step - loss: 0.7229 - acc: 0.7487 - val_loss: 1.0135 - val_acc: 0.6606\n",
      "Epoch 17/20\n",
      "40000/40000 [==============================] - 5s 124us/step - loss: 0.7072 - acc: 0.7565 - val_loss: 1.0004 - val_acc: 0.6747\n",
      "Epoch 18/20\n",
      "40000/40000 [==============================] - 5s 124us/step - loss: 0.6883 - acc: 0.7628 - val_loss: 0.9876 - val_acc: 0.6794\n",
      "Epoch 19/20\n",
      "40000/40000 [==============================] - 5s 123us/step - loss: 0.6602 - acc: 0.7720 - val_loss: 1.0703 - val_acc: 0.6673\n",
      "Epoch 20/20\n",
      "40000/40000 [==============================] - 5s 124us/step - loss: 0.6372 - acc: 0.7786 - val_loss: 1.1466 - val_acc: 0.6493\n",
      "10000/10000 [==============================] - 0s 39us/step\n",
      "test score: 1.1717870807647706\n",
      "test accuracy: 0.6431\n"
     ]
    }
   ],
   "source": [
    "model.compile(loss='categorical_crossentropy',optimizer=OPTIM,metrics=['accuracy'])\n",
    "history = model.fit(X_train,Y_train,batch_size=BATCH_SIZE,epochs=NB_EPOCH,validation_split=VALIDATION_SPLIT,verbose=VERBOSE)\n",
    "score = model.evaluate(X_test,Y_test,batch_size=BATCH_SIZE,verbose=VERBOSE)\n",
    "print('test score:',score[0])\n",
    "print('test accuracy:',score[1])"
   ]
  },
  {
   "cell_type": "code",
   "execution_count": 26,
   "metadata": {},
   "outputs": [],
   "source": [
    "# define the function\n",
    "import matplotlib.pyplot as plt\n",
    "%matplotlib inline\n",
    "def training_vis(hist):\n",
    "    loss = hist.history['loss']\n",
    "    val_loss = hist.history['val_loss']\n",
    "    acc = hist.history['acc']\n",
    "    val_acc = hist.history['val_acc']\n",
    "\n",
    "    # make a figure\n",
    "    fig = plt.figure(figsize=(12,4))\n",
    "    # subplot loss\n",
    "    ax1 = fig.add_subplot(121)\n",
    "    ax1.plot(loss,label='train_loss')\n",
    "    ax1.plot(val_loss,label='val_loss')\n",
    "    ax1.set_xlabel('Epochs')\n",
    "    ax1.set_ylabel('Loss')\n",
    "    ax1.set_title('Loss on Training and Validation Data')\n",
    "    ax1.legend()\n",
    "    # subplot acc\n",
    "    ax2 = fig.add_subplot(122)\n",
    "    ax2.plot(acc,label='train_acc')\n",
    "    ax2.plot(val_acc,label='val_acc')\n",
    "    ax2.set_xlabel('Epochs')\n",
    "    ax2.set_ylabel('Accuracy')\n",
    "    ax2.set_title('Accuracy  on Training and Validation Data')\n",
    "    ax2.legend()\n",
    "    plt.tight_layout()"
   ]
  },
  {
   "cell_type": "code",
   "execution_count": 27,
   "metadata": {},
   "outputs": [
    {
     "data": {
      "image/png": "[encoded data removed]",
      "text/plain": [
       "<matplotlib.figure.Figure at 0x7f63cd4cb828>"
      ]
     },
     "metadata": {},
     "output_type": "display_data"
    }
   ],
   "source": [
    "training_vis(history)"
   ]
  },
  {
   "cell_type": "markdown",
   "metadata": {},
   "source": [
    "## 更深的网络"
   ]
  },
  {
   "cell_type": "code",
   "execution_count": 14,
   "metadata": {},
   "outputs": [
    {
     "name": "stderr",
     "output_type": "stream",
     "text": [
      "/anaconda/envs/py35/lib/python3.5/site-packages/ipykernel/__main__.py:10: UserWarning: Update your `Conv2D` call to the Keras 2 API: `Conv2D(64, (3, 3))`\n"
     ]
    }
   ],
   "source": [
    "model = Sequential()\n",
    "model.add(Conv2D(32,(3,3),padding='same',input_shape=(IMG_ROWS, IMG_COLS, IMG_CHANNELS)))\n",
    "model.add(Activation('relu'))\n",
    "model.add(Conv2D(32,(3,3),padding='same'))\n",
    "model.add(Activation('relu'))\n",
    "model.add(MaxPooling2D(pool_size=(2,2)))\n",
    "model.add(Dropout(0.25))\n",
    "model.add(Conv2D(64,(3,3),padding='same'))\n",
    "model.add(Activation('relu'))\n",
    "model.add(Conv2D(64,3,3))\n",
    "model.add(Activation('relu'))\n",
    "model.add(MaxPooling2D(pool_size=(2,2)))\n",
    "model.add(Dropout(0.25))\n",
    "model.add(Flatten())\n",
    "model.add(Dense(512))\n",
    "model.add(Activation('relu'))\n",
    "model.add(Dropout(0.5))\n",
    "model.add(Dense(NB_CLASSES))\n",
    "model.add(Activation('softmax'))"
   ]
  },
  {
   "cell_type": "code",
   "execution_count": 15,
   "metadata": {},
   "outputs": [
    {
     "name": "stdout",
     "output_type": "stream",
     "text": [
      "Train on 40000 samples, validate on 10000 samples\n",
      "Epoch 1/40\n",
      "40000/40000 [==============================] - 11s 276us/step - loss: 1.7675 - acc: 0.3606 - val_loss: 1.3964 - val_acc: 0.4923\n",
      "Epoch 2/40\n",
      "40000/40000 [==============================] - 10s 255us/step - loss: 1.3497 - acc: 0.5178 - val_loss: 1.3145 - val_acc: 0.5527\n",
      "Epoch 3/40\n",
      "40000/40000 [==============================] - 10s 256us/step - loss: 1.1457 - acc: 0.5945 - val_loss: 0.9876 - val_acc: 0.6520\n",
      "Epoch 4/40\n",
      "40000/40000 [==============================] - 10s 256us/step - loss: 1.0019 - acc: 0.6481 - val_loss: 0.9275 - val_acc: 0.6712\n",
      "Epoch 5/40\n",
      "40000/40000 [==============================] - 10s 257us/step - loss: 0.8998 - acc: 0.6871 - val_loss: 1.0267 - val_acc: 0.6403\n",
      "Epoch 6/40\n",
      "40000/40000 [==============================] - 10s 257us/step - loss: 0.8218 - acc: 0.7131 - val_loss: 0.7787 - val_acc: 0.7326\n",
      "Epoch 7/40\n",
      "40000/40000 [==============================] - 10s 256us/step - loss: 0.7635 - acc: 0.7333 - val_loss: 0.7811 - val_acc: 0.7299\n",
      "Epoch 8/40\n",
      "40000/40000 [==============================] - 10s 257us/step - loss: 0.7136 - acc: 0.7528 - val_loss: 0.7700 - val_acc: 0.7420\n",
      "Epoch 9/40\n",
      "40000/40000 [==============================] - 10s 258us/step - loss: 0.6680 - acc: 0.7693 - val_loss: 0.7506 - val_acc: 0.7455\n",
      "Epoch 10/40\n",
      "40000/40000 [==============================] - 10s 258us/step - loss: 0.6424 - acc: 0.7790 - val_loss: 0.7258 - val_acc: 0.7648\n",
      "Epoch 11/40\n",
      "40000/40000 [==============================] - 10s 258us/step - loss: 0.6083 - acc: 0.7905 - val_loss: 0.7411 - val_acc: 0.7581\n",
      "Epoch 12/40\n",
      "40000/40000 [==============================] - 10s 258us/step - loss: 0.5960 - acc: 0.7957 - val_loss: 0.7308 - val_acc: 0.7733\n",
      "Epoch 13/40\n",
      "40000/40000 [==============================] - 10s 258us/step - loss: 0.5804 - acc: 0.8037 - val_loss: 0.6953 - val_acc: 0.7711\n",
      "Epoch 14/40\n",
      "40000/40000 [==============================] - 10s 259us/step - loss: 0.5679 - acc: 0.8062 - val_loss: 0.7048 - val_acc: 0.7672\n",
      "Epoch 15/40\n",
      "40000/40000 [==============================] - 10s 258us/step - loss: 0.5603 - acc: 0.8101 - val_loss: 0.8925 - val_acc: 0.7623\n",
      "Epoch 16/40\n",
      "40000/40000 [==============================] - 10s 258us/step - loss: 0.5572 - acc: 0.8120 - val_loss: 0.7326 - val_acc: 0.7846\n",
      "Epoch 17/40\n",
      "40000/40000 [==============================] - 10s 260us/step - loss: 0.5517 - acc: 0.8158 - val_loss: 0.7673 - val_acc: 0.7717\n",
      "Epoch 18/40\n",
      "40000/40000 [==============================] - 10s 259us/step - loss: 0.5491 - acc: 0.8163 - val_loss: 0.8239 - val_acc: 0.7562\n",
      "Epoch 19/40\n",
      "40000/40000 [==============================] - 10s 259us/step - loss: 0.5435 - acc: 0.8190 - val_loss: 0.7549 - val_acc: 0.7729\n",
      "Epoch 20/40\n",
      "40000/40000 [==============================] - 10s 259us/step - loss: 0.5373 - acc: 0.8226 - val_loss: 0.7334 - val_acc: 0.7660\n",
      "Epoch 21/40\n",
      "40000/40000 [==============================] - 10s 259us/step - loss: 0.5452 - acc: 0.8214 - val_loss: 1.0615 - val_acc: 0.7650\n",
      "Epoch 22/40\n",
      "40000/40000 [==============================] - 10s 258us/step - loss: 0.5400 - acc: 0.8222 - val_loss: 0.6887 - val_acc: 0.7800\n",
      "Epoch 23/40\n",
      "40000/40000 [==============================] - 10s 258us/step - loss: 0.5361 - acc: 0.8266 - val_loss: 0.8223 - val_acc: 0.7664\n",
      "Epoch 24/40\n",
      "40000/40000 [==============================] - 10s 258us/step - loss: 0.5321 - acc: 0.8251 - val_loss: 0.8930 - val_acc: 0.7825\n",
      "Epoch 25/40\n",
      "40000/40000 [==============================] - 10s 258us/step - loss: 0.5353 - acc: 0.8260 - val_loss: 1.1150 - val_acc: 0.7284\n",
      "Epoch 26/40\n",
      "40000/40000 [==============================] - 10s 258us/step - loss: 0.5513 - acc: 0.8223 - val_loss: 0.7627 - val_acc: 0.7827\n",
      "Epoch 27/40\n",
      "40000/40000 [==============================] - 10s 258us/step - loss: 0.5403 - acc: 0.8255 - val_loss: 0.7640 - val_acc: 0.7766\n",
      "Epoch 28/40\n",
      "40000/40000 [==============================] - 10s 259us/step - loss: 0.5395 - acc: 0.8263 - val_loss: 0.7842 - val_acc: 0.7717\n",
      "Epoch 29/40\n",
      "40000/40000 [==============================] - 10s 257us/step - loss: 0.5400 - acc: 0.8236 - val_loss: 0.7140 - val_acc: 0.7839\n",
      "Epoch 30/40\n",
      "40000/40000 [==============================] - 10s 258us/step - loss: 0.5457 - acc: 0.8229 - val_loss: 0.7366 - val_acc: 0.7796\n",
      "Epoch 31/40\n",
      "40000/40000 [==============================] - 10s 258us/step - loss: 0.5349 - acc: 0.8260 - val_loss: 0.8023 - val_acc: 0.7541\n",
      "Epoch 32/40\n",
      "40000/40000 [==============================] - 10s 258us/step - loss: 0.5375 - acc: 0.8266 - val_loss: 0.9419 - val_acc: 0.7668\n",
      "Epoch 33/40\n",
      "40000/40000 [==============================] - 10s 258us/step - loss: 0.5375 - acc: 0.8264 - val_loss: 0.8160 - val_acc: 0.7724\n",
      "Epoch 34/40\n",
      "40000/40000 [==============================] - 10s 259us/step - loss: 0.5439 - acc: 0.8256 - val_loss: 0.9248 - val_acc: 0.7632\n",
      "Epoch 35/40\n",
      "40000/40000 [==============================] - 10s 257us/step - loss: 0.5476 - acc: 0.8249 - val_loss: 0.8030 - val_acc: 0.7661\n",
      "Epoch 36/40\n",
      "40000/40000 [==============================] - 10s 258us/step - loss: 0.5469 - acc: 0.8238 - val_loss: 0.9408 - val_acc: 0.7780\n",
      "Epoch 37/40\n",
      "40000/40000 [==============================] - 10s 258us/step - loss: 0.5508 - acc: 0.8251 - val_loss: 0.6933 - val_acc: 0.7748\n",
      "Epoch 38/40\n",
      "40000/40000 [==============================] - 10s 258us/step - loss: 0.5535 - acc: 0.8234 - val_loss: 0.6722 - val_acc: 0.7804\n",
      "Epoch 39/40\n",
      "40000/40000 [==============================] - 10s 258us/step - loss: 0.5433 - acc: 0.8265 - val_loss: 0.7274 - val_acc: 0.7649\n",
      "Epoch 40/40\n",
      "40000/40000 [==============================] - 10s 257us/step - loss: 0.5579 - acc: 0.8236 - val_loss: 0.8498 - val_acc: 0.7635\n",
      "10000/10000 [==============================] - 1s 75us/step\n",
      "test score: 0.8570115852355957\n",
      "test accuracy: 0.7639\n"
     ]
    }
   ],
   "source": [
    "model.compile(loss='categorical_crossentropy',optimizer=OPTIM,metrics=['accuracy'])\n",
    "history = model.fit(X_train,Y_train,batch_size=BATCH_SIZE,epochs=NB_EPOCH*2,validation_split=VALIDATION_SPLIT,verbose=VERBOSE)\n",
    "score = model.evaluate(X_test,Y_test,batch_size=BATCH_SIZE,verbose=VERBOSE)\n",
    "print('test score:',score[0])\n",
    "print('test accuracy:',score[1])"
   ]
  },
  {
   "cell_type": "markdown",
   "metadata": {},
   "source": [
    "## data augment"
   ]
  },
  {
   "cell_type": "code",
   "execution_count": 16,
   "metadata": {},
   "outputs": [],
   "source": [
    "from keras.preprocessing.image import ImageDataGenerator\n",
    "NUM_TO_AUGMENT = 5"
   ]
  },
  {
   "cell_type": "code",
   "execution_count": 17,
   "metadata": {},
   "outputs": [],
   "source": [
    "datagen = ImageDataGenerator(rotation_range=40,width_shift_range=0.2,height_shift_range=0.2,zoom_range=0.2,horizontal_flip=True,fill_mode='nearest')"
   ]
  },
  {
   "cell_type": "code",
   "execution_count": null,
   "metadata": {},
   "outputs": [],
   "source": [
    "###\n",
    "(X_train, y_train), (X_test, y_test) = cifar10.load_data()\n",
    "xtas,ytas=[],[]\n",
    "for i in range(X_train.shape[0]):\n",
    "    num_aug = 0\n",
    "    x = X_train[i]\n",
    "    x = x.reshape((1,) + x.shape)\n",
    "    for x_aug in datagen.flow(x,batch_size=1,save_to_dir='preview',save_prefix='cifar',save_format='jpeg'):\n",
    "        if num_aug>=NUM_TO_AUGMENT:\n",
    "            break\n",
    "        xtas.append(x_aug[0])\n",
    "        num_aug+=1"
   ]
  },
  {
   "cell_type": "code",
   "execution_count": 19,
   "metadata": {},
   "outputs": [],
   "source": [
    "datagen.fit(X_train)"
   ]
  },
  {
   "cell_type": "code",
   "execution_count": 20,
   "metadata": {},
   "outputs": [
    {
     "name": "stdout",
     "output_type": "stream",
     "text": [
      "Epoch 1/20\n",
      "  2/390 [..............................] - ETA: 28s - loss: 11.6478 - acc: 0.2773"
     ]
    },
    {
     "name": "stderr",
     "output_type": "stream",
     "text": [
      "/anaconda/envs/py35/lib/python3.5/site-packages/ipykernel/__main__.py:1: UserWarning: Update your `fit_generator` call to the Keras 2 API: `fit_generator(<keras_pre..., verbose=1, steps_per_epoch=390, epochs=20)`\n",
      "  if __name__ == '__main__':\n"
     ]
    },
    {
     "name": "stdout",
     "output_type": "stream",
     "text": [
      "390/390 [==============================] - 20s 51ms/step - loss: 12.7817 - acc: 0.2066\n",
      "Epoch 2/20\n",
      "390/390 [==============================] - 20s 51ms/step - loss: 14.1703 - acc: 0.1208\n",
      "Epoch 3/20\n",
      "390/390 [==============================] - 20s 51ms/step - loss: 14.2108 - acc: 0.11830s - loss: 14.2091 - acc: 0.11\n",
      "Epoch 4/20\n",
      "390/390 [==============================] - 20s 51ms/step - loss: 14.3186 - acc: 0.1116\n",
      "Epoch 5/20\n",
      "390/390 [==============================] - 20s 51ms/step - loss: 14.2786 - acc: 0.1141\n",
      "Epoch 6/20\n",
      "390/390 [==============================] - 20s 51ms/step - loss: 14.3634 - acc: 0.1088\n",
      "Epoch 7/20\n",
      "390/390 [==============================] - 20s 52ms/step - loss: 14.4703 - acc: 0.1022\n",
      "Epoch 8/20\n",
      "390/390 [==============================] - 20s 51ms/step - loss: 14.4891 - acc: 0.1010\n",
      "Epoch 9/20\n",
      "390/390 [==============================] - 20s 51ms/step - loss: 14.4890 - acc: 0.1011\n",
      "Epoch 10/20\n",
      "390/390 [==============================] - 20s 51ms/step - loss: 14.4984 - acc: 0.1005\n",
      "Epoch 11/20\n",
      "390/390 [==============================] - 20s 51ms/step - loss: 14.4967 - acc: 0.1006\n",
      "Epoch 12/20\n",
      "390/390 [==============================] - 20s 51ms/step - loss: 14.4952 - acc: 0.1007\n",
      "Epoch 13/20\n",
      "390/390 [==============================] - 20s 51ms/step - loss: 14.5166 - acc: 0.0994\n",
      "Epoch 14/20\n",
      "390/390 [==============================] - 20s 51ms/step - loss: 14.4961 - acc: 0.1006\n",
      "Epoch 15/20\n",
      "390/390 [==============================] - 20s 52ms/step - loss: 14.5126 - acc: 0.0996\n",
      "Epoch 16/20\n",
      "390/390 [==============================] - 20s 51ms/step - loss: 14.4991 - acc: 0.1004\n",
      "Epoch 17/20\n",
      "390/390 [==============================] - 20s 51ms/step - loss: 14.5052 - acc: 0.1001\n",
      "Epoch 18/20\n",
      "390/390 [==============================] - 20s 51ms/step - loss: 14.5031 - acc: 0.1002\n",
      "Epoch 19/20\n",
      "390/390 [==============================] - 20s 51ms/step - loss: 14.5094 - acc: 0.0998\n",
      "Epoch 20/20\n",
      "390/390 [==============================] - 20s 51ms/step - loss: 14.5031 - acc: 0.1002\n",
      "Test score: 0.8570115852355957\n",
      "Test accuracy: 0.7639\n"
     ]
    }
   ],
   "source": [
    "history = model.fit_generator(datagen.flow(X_train,Y_train,batch_size=BATCH_SIZE),samples_per_epoch=X_train.shape[0],epochs=NB_EPOCH,verbose=VERBOSE)\n",
    "print(\"Test score:\",score[0])\n",
    "print(\"Test accuracy:\",score[1])"
   ]
  },
  {
   "cell_type": "code",
   "execution_count": 21,
   "metadata": {},
   "outputs": [],
   "source": [
    "model.save('cifar.h5')"
   ]
  },
  {
   "cell_type": "code",
   "execution_count": 1,
   "metadata": {},
   "outputs": [
    {
     "name": "stderr",
     "output_type": "stream",
     "text": [
      "Using TensorFlow backend.\n"
     ]
    }
   ],
   "source": [
    "from keras.models import load_model\n",
    "import numpy as np\n",
    "import scipy.misc\n",
    "from keras.optimizers import SGD"
   ]
  },
  {
   "cell_type": "code",
   "execution_count": 2,
   "metadata": {},
   "outputs": [],
   "source": [
    "model = load_model('cifar.h5')"
   ]
  },
  {
   "cell_type": "code",
   "execution_count": 30,
   "metadata": {},
   "outputs": [],
   "source": [
    "predictions=model.predict_classes(X_test)"
   ]
  },
  {
   "cell_type": "code",
   "execution_count": 31,
   "metadata": {},
   "outputs": [
    {
     "data": {
      "text/plain": [
       "array([3, 8, 8, ..., 5, 4, 7])"
      ]
     },
     "execution_count": 31,
     "metadata": {},
     "output_type": "execute_result"
    }
   ],
   "source": [
    "predictions"
   ]
  },
  {
   "cell_type": "code",
   "execution_count": 33,
   "metadata": {},
   "outputs": [
    {
     "data": {
      "text/html": [
       "<div>\n",
       "<style scoped>\n",
       "    .dataframe tbody tr th:only-of-type {\n",
       "        vertical-align: middle;\n",
       "    }\n",
       "\n",
       "    .dataframe tbody tr th {\n",
       "        vertical-align: top;\n",
       "    }\n",
       "\n",
       "    .dataframe thead th {\n",
       "        text-align: right;\n",
       "    }\n",
       "</style>\n",
       "<table border=\"1\" class=\"dataframe\">\n",
       "  <thead>\n",
       "    <tr style=\"text-align: right;\">\n",
       "      <th>predict</th>\n",
       "      <th>0</th>\n",
       "      <th>1</th>\n",
       "      <th>2</th>\n",
       "      <th>3</th>\n",
       "      <th>4</th>\n",
       "      <th>5</th>\n",
       "      <th>6</th>\n",
       "      <th>7</th>\n",
       "      <th>8</th>\n",
       "      <th>9</th>\n",
       "    </tr>\n",
       "    <tr>\n",
       "      <th>label</th>\n",
       "      <th></th>\n",
       "      <th></th>\n",
       "      <th></th>\n",
       "      <th></th>\n",
       "      <th></th>\n",
       "      <th></th>\n",
       "      <th></th>\n",
       "      <th></th>\n",
       "      <th></th>\n",
       "      <th></th>\n",
       "    </tr>\n",
       "  </thead>\n",
       "  <tbody>\n",
       "    <tr>\n",
       "      <th>0</th>\n",
       "      <td>679</td>\n",
       "      <td>17</td>\n",
       "      <td>84</td>\n",
       "      <td>33</td>\n",
       "      <td>21</td>\n",
       "      <td>4</td>\n",
       "      <td>46</td>\n",
       "      <td>26</td>\n",
       "      <td>44</td>\n",
       "      <td>46</td>\n",
       "    </tr>\n",
       "    <tr>\n",
       "      <th>1</th>\n",
       "      <td>22</td>\n",
       "      <td>738</td>\n",
       "      <td>22</td>\n",
       "      <td>16</td>\n",
       "      <td>6</td>\n",
       "      <td>4</td>\n",
       "      <td>48</td>\n",
       "      <td>12</td>\n",
       "      <td>16</td>\n",
       "      <td>116</td>\n",
       "    </tr>\n",
       "    <tr>\n",
       "      <th>2</th>\n",
       "      <td>63</td>\n",
       "      <td>2</td>\n",
       "      <td>454</td>\n",
       "      <td>65</td>\n",
       "      <td>116</td>\n",
       "      <td>40</td>\n",
       "      <td>200</td>\n",
       "      <td>52</td>\n",
       "      <td>3</td>\n",
       "      <td>5</td>\n",
       "    </tr>\n",
       "    <tr>\n",
       "      <th>3</th>\n",
       "      <td>15</td>\n",
       "      <td>4</td>\n",
       "      <td>57</td>\n",
       "      <td>492</td>\n",
       "      <td>70</td>\n",
       "      <td>88</td>\n",
       "      <td>229</td>\n",
       "      <td>35</td>\n",
       "      <td>4</td>\n",
       "      <td>6</td>\n",
       "    </tr>\n",
       "    <tr>\n",
       "      <th>4</th>\n",
       "      <td>13</td>\n",
       "      <td>2</td>\n",
       "      <td>52</td>\n",
       "      <td>70</td>\n",
       "      <td>593</td>\n",
       "      <td>11</td>\n",
       "      <td>190</td>\n",
       "      <td>63</td>\n",
       "      <td>5</td>\n",
       "      <td>1</td>\n",
       "    </tr>\n",
       "    <tr>\n",
       "      <th>5</th>\n",
       "      <td>5</td>\n",
       "      <td>1</td>\n",
       "      <td>65</td>\n",
       "      <td>254</td>\n",
       "      <td>70</td>\n",
       "      <td>387</td>\n",
       "      <td>144</td>\n",
       "      <td>69</td>\n",
       "      <td>3</td>\n",
       "      <td>2</td>\n",
       "    </tr>\n",
       "    <tr>\n",
       "      <th>6</th>\n",
       "      <td>2</td>\n",
       "      <td>1</td>\n",
       "      <td>18</td>\n",
       "      <td>27</td>\n",
       "      <td>12</td>\n",
       "      <td>4</td>\n",
       "      <td>930</td>\n",
       "      <td>5</td>\n",
       "      <td>1</td>\n",
       "      <td>0</td>\n",
       "    </tr>\n",
       "    <tr>\n",
       "      <th>7</th>\n",
       "      <td>11</td>\n",
       "      <td>1</td>\n",
       "      <td>26</td>\n",
       "      <td>64</td>\n",
       "      <td>75</td>\n",
       "      <td>32</td>\n",
       "      <td>46</td>\n",
       "      <td>742</td>\n",
       "      <td>0</td>\n",
       "      <td>3</td>\n",
       "    </tr>\n",
       "    <tr>\n",
       "      <th>8</th>\n",
       "      <td>87</td>\n",
       "      <td>45</td>\n",
       "      <td>25</td>\n",
       "      <td>42</td>\n",
       "      <td>20</td>\n",
       "      <td>8</td>\n",
       "      <td>45</td>\n",
       "      <td>9</td>\n",
       "      <td>665</td>\n",
       "      <td>54</td>\n",
       "    </tr>\n",
       "    <tr>\n",
       "      <th>9</th>\n",
       "      <td>31</td>\n",
       "      <td>67</td>\n",
       "      <td>11</td>\n",
       "      <td>34</td>\n",
       "      <td>10</td>\n",
       "      <td>7</td>\n",
       "      <td>40</td>\n",
       "      <td>37</td>\n",
       "      <td>12</td>\n",
       "      <td>751</td>\n",
       "    </tr>\n",
       "  </tbody>\n",
       "</table>\n",
       "</div>"
      ],
      "text/plain": [
       "predict    0    1    2    3    4    5    6    7    8    9\n",
       "label                                                    \n",
       "0        679   17   84   33   21    4   46   26   44   46\n",
       "1         22  738   22   16    6    4   48   12   16  116\n",
       "2         63    2  454   65  116   40  200   52    3    5\n",
       "3         15    4   57  492   70   88  229   35    4    6\n",
       "4         13    2   52   70  593   11  190   63    5    1\n",
       "5          5    1   65  254   70  387  144   69    3    2\n",
       "6          2    1   18   27   12    4  930    5    1    0\n",
       "7         11    1   26   64   75   32   46  742    0    3\n",
       "8         87   45   25   42   20    8   45    9  665   54\n",
       "9         31   67   11   34   10    7   40   37   12  751"
      ]
     },
     "execution_count": 33,
     "metadata": {},
     "output_type": "execute_result"
    }
   ],
   "source": [
    "import pandas as pd\n",
    "pd.crosstab(y_test.reshape(-1),predictions,rownames=['label'],colnames=['predict'])"
   ]
  },
  {
   "cell_type": "code",
   "execution_count": null,
   "metadata": {},
   "outputs": [],
   "source": []
  }
 ],
 "metadata": {
  "kernelspec": {
   "display_name": "Python [conda env:py35]",
   "language": "python",
   "name": "conda-env-py35-py"
  },
  "language_info": {
   "codemirror_mode": {
    "name": "ipython",
    "version": 3
   },
   "file_extension": ".py",
   "mimetype": "text/x-python",
   "name": "python",
   "nbconvert_exporter": "python",
   "pygments_lexer": "ipython3",
   "version": "3.5.4"
  }
 },
 "nbformat": 4,
 "nbformat_minor": 2
}
